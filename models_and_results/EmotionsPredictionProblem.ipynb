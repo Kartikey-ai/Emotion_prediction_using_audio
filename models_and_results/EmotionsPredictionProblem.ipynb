{
  "nbformat": 4,
  "nbformat_minor": 0,
  "metadata": {
    "colab": {
      "name": "EmotionsPredictionProblem.ipynb",
      "provenance": [],
      "collapsed_sections": []
    },
    "kernelspec": {
      "name": "python3",
      "display_name": "Python 3"
    },
    "language_info": {
      "name": "python"
    }
  },
  "cells": [
    {
      "cell_type": "code",
      "metadata": {
        "colab": {
          "base_uri": "https://localhost:8080/"
        },
        "id": "R5uk1G-ntJ0x",
        "outputId": "a517359d-be4c-49bf-ff1c-46c141412834"
      },
      "source": [
        "from google.colab import drive\n",
        "drive.mount('/content/drive')"
      ],
      "execution_count": null,
      "outputs": [
        {
          "output_type": "stream",
          "text": [
            "Mounted at /content/drive\n"
          ],
          "name": "stdout"
        }
      ]
    },
    {
      "cell_type": "code",
      "metadata": {
        "colab": {
          "base_uri": "https://localhost:8080/"
        },
        "id": "FXH9pfuGueJN",
        "outputId": "49f3f673-6326-4a5e-f6cf-9d172938f9dc"
      },
      "source": [
        "!nvidia-smi"
      ],
      "execution_count": null,
      "outputs": [
        {
          "output_type": "stream",
          "text": [
            "Sun Aug 29 12:48:09 2021       \n",
            "+-----------------------------------------------------------------------------+\n",
            "| NVIDIA-SMI 470.57.02    Driver Version: 460.32.03    CUDA Version: 11.2     |\n",
            "|-------------------------------+----------------------+----------------------+\n",
            "| GPU  Name        Persistence-M| Bus-Id        Disp.A | Volatile Uncorr. ECC |\n",
            "| Fan  Temp  Perf  Pwr:Usage/Cap|         Memory-Usage | GPU-Util  Compute M. |\n",
            "|                               |                      |               MIG M. |\n",
            "|===============================+======================+======================|\n",
            "|   0  Tesla K80           Off  | 00000000:00:04.0 Off |                    0 |\n",
            "| N/A   38C    P8    27W / 149W |      0MiB / 11441MiB |      0%      Default |\n",
            "|                               |                      |                  N/A |\n",
            "+-------------------------------+----------------------+----------------------+\n",
            "                                                                               \n",
            "+-----------------------------------------------------------------------------+\n",
            "| Processes:                                                                  |\n",
            "|  GPU   GI   CI        PID   Type   Process name                  GPU Memory |\n",
            "|        ID   ID                                                   Usage      |\n",
            "|=============================================================================|\n",
            "|  No running processes found                                                 |\n",
            "+-----------------------------------------------------------------------------+\n"
          ],
          "name": "stdout"
        }
      ]
    },
    {
      "cell_type": "code",
      "metadata": {
        "id": "9N7bYe5qtskz"
      },
      "source": [
        "import numpy as np\n",
        "import pandas as pd\n",
        "from sklearn.model_selection import train_test_split\n",
        "import matplotlib.pyplot as plt\n",
        "\n",
        "import tensorflow as tf\n",
        "from tensorflow.keras.layers import BatchNormalization\n",
        "from tensorflow import keras\n",
        "from tensorflow.keras.models import Sequential, Model\n",
        "from tensorflow.keras.optimizers import Adam\n",
        "from tensorflow.keras import regularizers\n",
        "from tensorflow.keras import initializers"
      ],
      "execution_count": null,
      "outputs": []
    },
    {
      "cell_type": "code",
      "metadata": {
        "id": "vOBmMir0D2N0"
      },
      "source": [
        "import cv2"
      ],
      "execution_count": null,
      "outputs": []
    },
    {
      "cell_type": "code",
      "metadata": {
        "id": "znP3V1vevRsa"
      },
      "source": [
        "train = pd.read_csv('/content/drive/MyDrive/Training data/train.csv')"
      ],
      "execution_count": null,
      "outputs": []
    },
    {
      "cell_type": "code",
      "metadata": {
        "colab": {
          "base_uri": "https://localhost:8080/",
          "height": 204
        },
        "id": "hL1oXtMl6Pbu",
        "outputId": "702991a9-e6e9-4b8e-cba5-0ba42024bcb4"
      },
      "source": [
        "train.head()"
      ],
      "execution_count": null,
      "outputs": [
        {
          "output_type": "execute_result",
          "data": {
            "text/html": [
              "<div>\n",
              "<style scoped>\n",
              "    .dataframe tbody tr th:only-of-type {\n",
              "        vertical-align: middle;\n",
              "    }\n",
              "\n",
              "    .dataframe tbody tr th {\n",
              "        vertical-align: top;\n",
              "    }\n",
              "\n",
              "    .dataframe thead th {\n",
              "        text-align: right;\n",
              "    }\n",
              "</style>\n",
              "<table border=\"1\" class=\"dataframe\">\n",
              "  <thead>\n",
              "    <tr style=\"text-align: right;\">\n",
              "      <th></th>\n",
              "      <th>Unnamed: 0</th>\n",
              "      <th>filename</th>\n",
              "      <th>emotion</th>\n",
              "      <th>durations</th>\n",
              "    </tr>\n",
              "  </thead>\n",
              "  <tbody>\n",
              "    <tr>\n",
              "      <th>0</th>\n",
              "      <td>0</td>\n",
              "      <td>18777.mp3</td>\n",
              "      <td>neutral</td>\n",
              "      <td>2.44000</td>\n",
              "    </tr>\n",
              "    <tr>\n",
              "      <th>1</th>\n",
              "      <td>1</td>\n",
              "      <td>24041.mp3</td>\n",
              "      <td>neutral</td>\n",
              "      <td>3.36000</td>\n",
              "    </tr>\n",
              "    <tr>\n",
              "      <th>2</th>\n",
              "      <td>2</td>\n",
              "      <td>1621.mp3</td>\n",
              "      <td>joy</td>\n",
              "      <td>0.34068</td>\n",
              "    </tr>\n",
              "    <tr>\n",
              "      <th>3</th>\n",
              "      <td>3</td>\n",
              "      <td>28883.mp3</td>\n",
              "      <td>neutral</td>\n",
              "      <td>1.56000</td>\n",
              "    </tr>\n",
              "    <tr>\n",
              "      <th>4</th>\n",
              "      <td>4</td>\n",
              "      <td>14918.mp3</td>\n",
              "      <td>neutral</td>\n",
              "      <td>2.82000</td>\n",
              "    </tr>\n",
              "  </tbody>\n",
              "</table>\n",
              "</div>"
            ],
            "text/plain": [
              "   Unnamed: 0   filename  emotion  durations\n",
              "0           0  18777.mp3  neutral    2.44000\n",
              "1           1  24041.mp3  neutral    3.36000\n",
              "2           2   1621.mp3      joy    0.34068\n",
              "3           3  28883.mp3  neutral    1.56000\n",
              "4           4  14918.mp3  neutral    2.82000"
            ]
          },
          "metadata": {},
          "execution_count": 6
        }
      ]
    },
    {
      "cell_type": "code",
      "metadata": {
        "id": "NGJfd-gfpHxA"
      },
      "source": [
        "test = pd.read_csv('/content/drive/MyDrive/Training data/test.csv')"
      ],
      "execution_count": null,
      "outputs": []
    },
    {
      "cell_type": "code",
      "metadata": {
        "id": "TrfZWe386U_6"
      },
      "source": [
        "emotion_dict = {}\n",
        "i = 0\n",
        "for emotion in train['emotion'].unique():\n",
        "    emotion_dict[emotion] = i\n",
        "    i += 1\n",
        "\n",
        "Y = train['emotion'].apply(lambda x: emotion_dict[x]).to_numpy()"
      ],
      "execution_count": null,
      "outputs": []
    },
    {
      "cell_type": "code",
      "metadata": {
        "colab": {
          "base_uri": "https://localhost:8080/"
        },
        "id": "6xBsU3EjyYKb",
        "outputId": "9d1faa6e-959e-49c2-df29-e9e148b6686a"
      },
      "source": [
        "Y"
      ],
      "execution_count": null,
      "outputs": [
        {
          "output_type": "execute_result",
          "data": {
            "text/plain": [
              "array([0, 0, 1, ..., 0, 3, 0])"
            ]
          },
          "metadata": {},
          "execution_count": 9
        }
      ]
    },
    {
      "cell_type": "code",
      "metadata": {
        "id": "gi-oEQuAvRrL"
      },
      "source": [
        "X = np.load('/content/drive/MyDrive/Training data/traindata5.npy')"
      ],
      "execution_count": null,
      "outputs": []
    },
    {
      "cell_type": "code",
      "metadata": {
        "id": "NjAQnNv6pst6"
      },
      "source": [
        "X = X[..., np.newaxis]"
      ],
      "execution_count": null,
      "outputs": []
    },
    {
      "cell_type": "code",
      "metadata": {
        "colab": {
          "base_uri": "https://localhost:8080/"
        },
        "id": "wqufWaSlZjfV",
        "outputId": "5053fe17-2d5a-4aaa-f55a-776015455ee1"
      },
      "source": [
        "X.shape"
      ],
      "execution_count": null,
      "outputs": [
        {
          "output_type": "execute_result",
          "data": {
            "text/plain": [
              "(5816, 862, 20, 1)"
            ]
          },
          "metadata": {},
          "execution_count": 12
        }
      ]
    },
    {
      "cell_type": "code",
      "metadata": {
        "id": "xg4buxVY7eQi"
      },
      "source": [
        "sub = np.load('/content/drive/MyDrive/Training data/testdata5.npy')"
      ],
      "execution_count": null,
      "outputs": []
    },
    {
      "cell_type": "code",
      "metadata": {
        "id": "NzWF1cwioAow"
      },
      "source": [
        "sub = sub[..., np.newaxis]"
      ],
      "execution_count": null,
      "outputs": []
    },
    {
      "cell_type": "code",
      "metadata": {
        "colab": {
          "base_uri": "https://localhost:8080/"
        },
        "id": "GHJJrhYr9Zqk",
        "outputId": "779a014c-9c96-4f8d-b9ff-b5c6ffd79a19"
      },
      "source": [
        "sub.shape"
      ],
      "execution_count": null,
      "outputs": [
        {
          "output_type": "execute_result",
          "data": {
            "text/plain": [
              "(2492, 862, 20, 1)"
            ]
          },
          "metadata": {},
          "execution_count": 15
        }
      ]
    },
    {
      "cell_type": "code",
      "metadata": {
        "id": "WEMcfCIdaV7n"
      },
      "source": [
        "mean = np.mean(np.concatenate((X,sub)), axis=0)\n",
        "std = np.std(np.concatenate((X,sub)), axis=0)\n",
        "\n",
        "X = (X-mean)/std\n",
        "sub = (sub - mean)/std"
      ],
      "execution_count": null,
      "outputs": []
    },
    {
      "cell_type": "code",
      "metadata": {
        "id": "675Ot43ub6Fq"
      },
      "source": [
        "X_train, X_test, Y_train, Y_test = train_test_split(X, Y, test_size=0.1)"
      ],
      "execution_count": null,
      "outputs": []
    },
    {
      "cell_type": "code",
      "metadata": {
        "colab": {
          "base_uri": "https://localhost:8080/"
        },
        "id": "iJ4StCl5Av7w",
        "outputId": "bae7c13e-a931-4de2-db10-1e2d99b546f1"
      },
      "source": [
        "X_train.shape"
      ],
      "execution_count": null,
      "outputs": [
        {
          "output_type": "execute_result",
          "data": {
            "text/plain": [
              "(5234, 862, 20, 1)"
            ]
          },
          "metadata": {},
          "execution_count": 18
        }
      ]
    },
    {
      "cell_type": "code",
      "metadata": {
        "id": "vaMz-oS2AGCR"
      },
      "source": [
        "def build_model(input_shape):\n",
        "\n",
        "    input = keras.layers.Input(input_shape)\n",
        "    model = keras.layers.Conv2D(64, (3, 3), activation='relu', input_shape=input_shape)(input)\n",
        "    model = keras.layers.Conv2D(32, (3, 3), activation='relu', input_shape=input_shape)(model)\n",
        "    model = keras.layers.MaxPooling2D((3, 3), strides=(2, 2), padding='same')(model)\n",
        "    model = keras.layers.BatchNormalization()(model)\n",
        "\n",
        "    model = keras.layers.Conv2D(128, (3, 3), activation='relu')(model)\n",
        "    model = keras.layers.Conv2D(254, (3, 3), activation='relu')(model)\n",
        "    model = keras.layers.MaxPooling2D((3, 3), strides=(2, 2), padding='same')(model)\n",
        "    model = keras.layers.BatchNormalization()(model)\n",
        "\n",
        "    curr_shape = model.shape\n",
        "\n",
        "    model = keras.layers.Reshape((curr_shape[1]*curr_shape[2], curr_shape[3]))(model)\n",
        "\n",
        "    model = keras.layers.LSTM(256, input_shape=input_shape, return_sequences=True)(model)\n",
        "    model = keras.layers.LSTM(512)(model)\n",
        "\n",
        "    model = keras.layers.Dense(1000, activation='relu')(model)\n",
        "    model = keras.layers.Dense(200, activation='relu')(model)\n",
        "\n",
        "    output = keras.layers.Dense(7, activation='softmax')(model)\n",
        "    \n",
        "    model = Model(inputs=input, outputs=output)\n",
        "\n",
        "    return model"
      ],
      "execution_count": null,
      "outputs": []
    },
    {
      "cell_type": "code",
      "metadata": {
        "id": "U9mbmQldf6IR"
      },
      "source": [
        "def build_model(input_shape):\n",
        "    model = keras.Sequential()\n",
        "\n",
        "    model.add(keras.layers.Conv2D(64, (3, 3), activation='relu', input_shape=input_shape))\n",
        "    model.add(keras.layers.Conv2D(32, (3, 3), activation='relu', input_shape=input_shape))\n",
        "    model.add(keras.layers.MaxPooling2D((3, 3), strides=(2, 2), padding='same'))\n",
        "    model.add(keras.layers.BatchNormalization())\n",
        "\n",
        "    model.add(keras.layers.Conv2D(128, (3, 3), activation='relu'))\n",
        "    model.add(keras.layers.Conv2D(254, (3, 3), activation='relu'))\n",
        "    model.add(keras.layers.MaxPooling2D((3, 3), strides=(2, 2), padding='same'))\n",
        "    model.add(keras.layers.BatchNormalization())\n",
        "\n",
        "    model.add(keras.layers.Flatten())\n",
        "    model.add(keras.layers.Dense(1000, activation='relu'))\n",
        "    model.add(keras.layers.Dense(200, activation='relu'))\n",
        "    model.add(keras.layers.Dense(7, activation='softmax'))\n",
        "\n",
        "    return model"
      ],
      "execution_count": null,
      "outputs": []
    },
    {
      "cell_type": "code",
      "metadata": {
        "id": "R4qqx8VSwtBK"
      },
      "source": [
        "def build_model(input_shape):\n",
        "    model = keras.Sequential()\n",
        "\n",
        "    model.add(keras.layers.Conv2D(64, (3, 3), activation='relu', input_shape=input_shape))\n",
        "    model.add(keras.layers.Conv2D(32, (3, 3), activation='relu', input_shape=input_shape))\n",
        "    model.add(keras.layers.MaxPooling2D((3, 3), strides=(2, 2), padding='same'))\n",
        "    model.add(keras.layers.BatchNormalization())\n",
        "\n",
        "    model.add(keras.layers.Conv2D(128, (3, 3), activation='relu'))\n",
        "    model.add(keras.layers.Conv2D(64, (3, 3), activation='relu'))\n",
        "    model.add(keras.layers.MaxPooling2D((3, 3), strides=(2, 2), padding='same'))\n",
        "    model.add(keras.layers.BatchNormalization())\n",
        "\n",
        "    model.add(keras.layers.Flatten())\n",
        "    model.add(keras.layers.Dense(64, activation='relu'))\n",
        "    model.add(keras.layers.Dropout(0.3))\n",
        "    model.add(keras.layers.Dropout(0.2))\n",
        "    model.add(keras.layers.BatchNormalization())\n",
        "    model.add(keras.layers.Dropout(0.3))\n",
        "\n",
        "    model.add(keras.layers.Dense(7, activation='softmax'))\n",
        "\n",
        "    return model"
      ],
      "execution_count": null,
      "outputs": []
    },
    {
      "cell_type": "code",
      "metadata": {
        "colab": {
          "base_uri": "https://localhost:8080/"
        },
        "id": "1J5QhQ6oujkK",
        "outputId": "47cd204c-fe62-40a7-dff8-9812e0822dce"
      },
      "source": [
        "input_shape = (X_train.shape[1], X_train.shape[2],1)\n",
        "model = build_model(input_shape)\n",
        "model.summary()"
      ],
      "execution_count": null,
      "outputs": [
        {
          "output_type": "stream",
          "text": [
            "Model: \"sequential\"\n",
            "_________________________________________________________________\n",
            "Layer (type)                 Output Shape              Param #   \n",
            "=================================================================\n",
            "conv2d (Conv2D)              (None, 860, 18, 64)       640       \n",
            "_________________________________________________________________\n",
            "conv2d_1 (Conv2D)            (None, 858, 16, 32)       18464     \n",
            "_________________________________________________________________\n",
            "max_pooling2d (MaxPooling2D) (None, 429, 8, 32)        0         \n",
            "_________________________________________________________________\n",
            "batch_normalization (BatchNo (None, 429, 8, 32)        128       \n",
            "_________________________________________________________________\n",
            "conv2d_2 (Conv2D)            (None, 427, 6, 128)       36992     \n",
            "_________________________________________________________________\n",
            "conv2d_3 (Conv2D)            (None, 425, 4, 254)       292862    \n",
            "_________________________________________________________________\n",
            "max_pooling2d_1 (MaxPooling2 (None, 213, 2, 254)       0         \n",
            "_________________________________________________________________\n",
            "batch_normalization_1 (Batch (None, 213, 2, 254)       1016      \n",
            "_________________________________________________________________\n",
            "flatten (Flatten)            (None, 108204)            0         \n",
            "_________________________________________________________________\n",
            "dense (Dense)                (None, 1000)              108205000 \n",
            "_________________________________________________________________\n",
            "dense_1 (Dense)              (None, 200)               200200    \n",
            "_________________________________________________________________\n",
            "dense_2 (Dense)              (None, 7)                 1407      \n",
            "=================================================================\n",
            "Total params: 108,756,709\n",
            "Trainable params: 108,756,137\n",
            "Non-trainable params: 572\n",
            "_________________________________________________________________\n"
          ],
          "name": "stdout"
        }
      ]
    },
    {
      "cell_type": "code",
      "metadata": {
        "id": "NnUUPklWVvQd"
      },
      "source": [
        "optimiser = keras.optimizers.Adam(learning_rate=0.0001)\n",
        "model.compile(optimizer=optimiser,\n",
        "              loss='sparse_categorical_crossentropy',\n",
        "              metrics=['accuracy'])"
      ],
      "execution_count": null,
      "outputs": []
    },
    {
      "cell_type": "code",
      "metadata": {
        "colab": {
          "base_uri": "https://localhost:8080/"
        },
        "id": "LMHTrraLuhzg",
        "outputId": "ed086f50-ae45-4853-f0db-5da431e4b075"
      },
      "source": [
        "history = model.fit(X_train, Y_train, validation_data=(X_test, Y_test), batch_size=32, epochs=1)"
      ],
      "execution_count": null,
      "outputs": [
        {
          "output_type": "stream",
          "text": [
            "164/164 [==============================] - 27s 163ms/step - loss: 0.1265 - accuracy: 0.9595 - val_loss: 2.5820 - val_accuracy: 0.5223\n"
          ],
          "name": "stdout"
        }
      ]
    },
    {
      "cell_type": "code",
      "metadata": {
        "id": "UGWO4PlcoGKp"
      },
      "source": [
        "ypred = model.predict(sub)\n",
        "pred = np.argmax(ypred,axis=1)"
      ],
      "execution_count": null,
      "outputs": []
    },
    {
      "cell_type": "code",
      "metadata": {
        "colab": {
          "base_uri": "https://localhost:8080/"
        },
        "id": "KKZYWSadoL2K",
        "outputId": "68b76ded-343c-4912-d68a-3a647fb34f4c"
      },
      "source": [
        "pred"
      ],
      "execution_count": null,
      "outputs": [
        {
          "output_type": "execute_result",
          "data": {
            "text/plain": [
              "array([0, 0, 0, ..., 6, 5, 0])"
            ]
          },
          "metadata": {},
          "execution_count": 52
        }
      ]
    },
    {
      "cell_type": "code",
      "metadata": {
        "colab": {
          "base_uri": "https://localhost:8080/",
          "height": 418
        },
        "id": "XRpx2uTdpMKl",
        "outputId": "a3c0a0c7-8374-4eb4-d77c-7c7e0adec449"
      },
      "source": [
        "test"
      ],
      "execution_count": null,
      "outputs": [
        {
          "output_type": "execute_result",
          "data": {
            "text/html": [
              "<div>\n",
              "<style scoped>\n",
              "    .dataframe tbody tr th:only-of-type {\n",
              "        vertical-align: middle;\n",
              "    }\n",
              "\n",
              "    .dataframe tbody tr th {\n",
              "        vertical-align: top;\n",
              "    }\n",
              "\n",
              "    .dataframe thead th {\n",
              "        text-align: right;\n",
              "    }\n",
              "</style>\n",
              "<table border=\"1\" class=\"dataframe\">\n",
              "  <thead>\n",
              "    <tr style=\"text-align: right;\">\n",
              "      <th></th>\n",
              "      <th>Unnamed: 0</th>\n",
              "      <th>filename</th>\n",
              "      <th>durations</th>\n",
              "    </tr>\n",
              "  </thead>\n",
              "  <tbody>\n",
              "    <tr>\n",
              "      <th>0</th>\n",
              "      <td>0</td>\n",
              "      <td>26199.mp3</td>\n",
              "      <td>0.680272</td>\n",
              "    </tr>\n",
              "    <tr>\n",
              "      <th>1</th>\n",
              "      <td>1</td>\n",
              "      <td>692.mp3</td>\n",
              "      <td>2.690023</td>\n",
              "    </tr>\n",
              "    <tr>\n",
              "      <th>2</th>\n",
              "      <td>2</td>\n",
              "      <td>16821.mp3</td>\n",
              "      <td>1.310023</td>\n",
              "    </tr>\n",
              "    <tr>\n",
              "      <th>3</th>\n",
              "      <td>3</td>\n",
              "      <td>1608.mp3</td>\n",
              "      <td>1.650023</td>\n",
              "    </tr>\n",
              "    <tr>\n",
              "      <th>4</th>\n",
              "      <td>4</td>\n",
              "      <td>47947.wav</td>\n",
              "      <td>3.870567</td>\n",
              "    </tr>\n",
              "    <tr>\n",
              "      <th>...</th>\n",
              "      <td>...</td>\n",
              "      <td>...</td>\n",
              "      <td>...</td>\n",
              "    </tr>\n",
              "    <tr>\n",
              "      <th>2487</th>\n",
              "      <td>2487</td>\n",
              "      <td>16692.mp3</td>\n",
              "      <td>1.060000</td>\n",
              "    </tr>\n",
              "    <tr>\n",
              "      <th>2488</th>\n",
              "      <td>2488</td>\n",
              "      <td>29505.mp3</td>\n",
              "      <td>6.280000</td>\n",
              "    </tr>\n",
              "    <tr>\n",
              "      <th>2489</th>\n",
              "      <td>2489</td>\n",
              "      <td>5807.mp3</td>\n",
              "      <td>2.150023</td>\n",
              "    </tr>\n",
              "    <tr>\n",
              "      <th>2490</th>\n",
              "      <td>2490</td>\n",
              "      <td>43982.wav</td>\n",
              "      <td>2.268980</td>\n",
              "    </tr>\n",
              "    <tr>\n",
              "      <th>2491</th>\n",
              "      <td>2491</td>\n",
              "      <td>4079.mp3</td>\n",
              "      <td>3.320000</td>\n",
              "    </tr>\n",
              "  </tbody>\n",
              "</table>\n",
              "<p>2492 rows × 3 columns</p>\n",
              "</div>"
            ],
            "text/plain": [
              "      Unnamed: 0   filename  durations\n",
              "0              0  26199.mp3   0.680272\n",
              "1              1    692.mp3   2.690023\n",
              "2              2  16821.mp3   1.310023\n",
              "3              3   1608.mp3   1.650023\n",
              "4              4  47947.wav   3.870567\n",
              "...          ...        ...        ...\n",
              "2487        2487  16692.mp3   1.060000\n",
              "2488        2488  29505.mp3   6.280000\n",
              "2489        2489   5807.mp3   2.150023\n",
              "2490        2490  43982.wav   2.268980\n",
              "2491        2491   4079.mp3   3.320000\n",
              "\n",
              "[2492 rows x 3 columns]"
            ]
          },
          "metadata": {},
          "execution_count": 53
        }
      ]
    },
    {
      "cell_type": "code",
      "metadata": {
        "id": "Z_lHJr-koQWc"
      },
      "source": [
        "submission_file = pd.DataFrame()\n",
        "submission_file['filename'] = test['filename']\n",
        "inv_emotion_dict = {v: k for k, v in emotion_dict.items()}\n",
        "\n",
        "pred_emotion = np.array([inv_emotion_dict[i] for i in pred])"
      ],
      "execution_count": null,
      "outputs": []
    },
    {
      "cell_type": "code",
      "metadata": {
        "id": "BeBLPgeipX4Z"
      },
      "source": [
        "submission_file['emotion'] = pred_emotion"
      ],
      "execution_count": null,
      "outputs": []
    },
    {
      "cell_type": "code",
      "metadata": {
        "colab": {
          "base_uri": "https://localhost:8080/",
          "height": 418
        },
        "id": "zupu_SyipfvP",
        "outputId": "feaef58f-87da-4387-bc9f-bbf0bd2842f0"
      },
      "source": [
        "submission_file"
      ],
      "execution_count": null,
      "outputs": [
        {
          "output_type": "execute_result",
          "data": {
            "text/html": [
              "<div>\n",
              "<style scoped>\n",
              "    .dataframe tbody tr th:only-of-type {\n",
              "        vertical-align: middle;\n",
              "    }\n",
              "\n",
              "    .dataframe tbody tr th {\n",
              "        vertical-align: top;\n",
              "    }\n",
              "\n",
              "    .dataframe thead th {\n",
              "        text-align: right;\n",
              "    }\n",
              "</style>\n",
              "<table border=\"1\" class=\"dataframe\">\n",
              "  <thead>\n",
              "    <tr style=\"text-align: right;\">\n",
              "      <th></th>\n",
              "      <th>filename</th>\n",
              "      <th>emotion</th>\n",
              "    </tr>\n",
              "  </thead>\n",
              "  <tbody>\n",
              "    <tr>\n",
              "      <th>0</th>\n",
              "      <td>26199.mp3</td>\n",
              "      <td>neutral</td>\n",
              "    </tr>\n",
              "    <tr>\n",
              "      <th>1</th>\n",
              "      <td>692.mp3</td>\n",
              "      <td>neutral</td>\n",
              "    </tr>\n",
              "    <tr>\n",
              "      <th>2</th>\n",
              "      <td>16821.mp3</td>\n",
              "      <td>neutral</td>\n",
              "    </tr>\n",
              "    <tr>\n",
              "      <th>3</th>\n",
              "      <td>1608.mp3</td>\n",
              "      <td>neutral</td>\n",
              "    </tr>\n",
              "    <tr>\n",
              "      <th>4</th>\n",
              "      <td>47947.wav</td>\n",
              "      <td>disgust</td>\n",
              "    </tr>\n",
              "    <tr>\n",
              "      <th>...</th>\n",
              "      <td>...</td>\n",
              "      <td>...</td>\n",
              "    </tr>\n",
              "    <tr>\n",
              "      <th>2487</th>\n",
              "      <td>16692.mp3</td>\n",
              "      <td>neutral</td>\n",
              "    </tr>\n",
              "    <tr>\n",
              "      <th>2488</th>\n",
              "      <td>29505.mp3</td>\n",
              "      <td>neutral</td>\n",
              "    </tr>\n",
              "    <tr>\n",
              "      <th>2489</th>\n",
              "      <td>5807.mp3</td>\n",
              "      <td>anger</td>\n",
              "    </tr>\n",
              "    <tr>\n",
              "      <th>2490</th>\n",
              "      <td>43982.wav</td>\n",
              "      <td>fear</td>\n",
              "    </tr>\n",
              "    <tr>\n",
              "      <th>2491</th>\n",
              "      <td>4079.mp3</td>\n",
              "      <td>neutral</td>\n",
              "    </tr>\n",
              "  </tbody>\n",
              "</table>\n",
              "<p>2492 rows × 2 columns</p>\n",
              "</div>"
            ],
            "text/plain": [
              "       filename  emotion\n",
              "0     26199.mp3  neutral\n",
              "1       692.mp3  neutral\n",
              "2     16821.mp3  neutral\n",
              "3      1608.mp3  neutral\n",
              "4     47947.wav  disgust\n",
              "...         ...      ...\n",
              "2487  16692.mp3  neutral\n",
              "2488  29505.mp3  neutral\n",
              "2489   5807.mp3    anger\n",
              "2490  43982.wav     fear\n",
              "2491   4079.mp3  neutral\n",
              "\n",
              "[2492 rows x 2 columns]"
            ]
          },
          "metadata": {},
          "execution_count": 56
        }
      ]
    },
    {
      "cell_type": "code",
      "metadata": {
        "id": "IignaVGZphWr"
      },
      "source": [
        "submission_file.to_csv('submission.csv', index=False)"
      ],
      "execution_count": null,
      "outputs": []
    },
    {
      "cell_type": "code",
      "metadata": {
        "id": "xu4ZaXsOpmw7"
      },
      "source": [
        ""
      ],
      "execution_count": null,
      "outputs": []
    }
  ]
}